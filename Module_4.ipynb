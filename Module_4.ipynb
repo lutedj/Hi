{
  "nbformat": 4,
  "nbformat_minor": 0,
  "metadata": {
    "colab": {
      "name": "Module 4",
      "provenance": [],
      "collapsed_sections": []
    },
    "kernelspec": {
      "name": "python3",
      "display_name": "Python 3"
    },
    "language_info": {
      "name": "python"
    }
  },
  "cells": [
    {
      "cell_type": "markdown",
      "metadata": {
        "id": "NhuPP7Cjec2J"
      },
      "source": [
        "# Software Company\n"
      ]
    },
    {
      "cell_type": "code",
      "metadata": {
        "colab": {
          "base_uri": "https://localhost:8080/"
        },
        "id": "U_YUK5SXVjqv",
        "outputId": "bcaa511e-7eba-4ed2-b438-13cb3255a8d8"
      },
      "source": [
        "package = 99\n",
        "items = int(input(\"How many items are you buying?\"))\n",
        "discount = 0\n",
        "\n",
        "if items >= 10 and items <=19:\n",
        "  discount = .1\n",
        "elif items >= 20 and items <=49:\n",
        "  discount = .2\n",
        "elif items >= 50 and items <=99:\n",
        "  discount = .3\n",
        "elif items >= 100:\n",
        "  discount = .4\n",
        "\n",
        "total_amount =package*items*(1-discount)\n",
        "\n",
        "print(\"you are saving is\", discount*100, \"%.\")\n",
        "print(\"The total amount of the current cost is $\", total_amount)"
      ],
      "execution_count": null,
      "outputs": [
        {
          "output_type": "stream",
          "name": "stdout",
          "text": [
            "How many items are you buying?15\n",
            "you are saving is 10.0 %.\n",
            "The total amount of the current cost is $ 1336.5\n"
          ]
        }
      ]
    },
    {
      "cell_type": "code",
      "metadata": {
        "colab": {
          "base_uri": "https://localhost:8080/"
        },
        "id": "fzUhuS8ZRhBf",
        "outputId": "9d2f489f-ac86-481b-9b88-f481d06c0274"
      },
      "source": [
        "weight = int(input(\"How heavy is your package?\"))\n",
        "cost = 1.50\n",
        "if weight >= 2 and weight <= 6: \n",
        "  cost = 3.00\n",
        "elif weight >= 6 and weight <= 10:\n",
        "  cost = 4.00\n",
        "elif weight >= 10: \n",
        "  cost = 4.75\n",
        "final_Cost = cost\n",
        "\n",
        "\n",
        "print(\"Your package weighs\", weight,)\n",
        "print(\"The total amount of the cost is $\", final_Cost)\n"
      ],
      "execution_count": 10,
      "outputs": [
        {
          "output_type": "stream",
          "name": "stdout",
          "text": [
            "How heavy is your package?12\n",
            "Your package weighs 12\n",
            "The total amount of the cost is $ 4.75\n"
          ]
        }
      ]
    }
  ]
}