{
  "nbformat": 4,
  "nbformat_minor": 0,
  "metadata": {
    "colab": {
      "name": "module 9 ",
      "provenance": [],
      "collapsed_sections": []
    },
    "kernelspec": {
      "name": "python3",
      "display_name": "Python 3"
    },
    "language_info": {
      "name": "python"
    }
  },
  "cells": [
    {
      "cell_type": "code",
      "metadata": {
        "id": "zGteP7L3ubMo"
      },
      "source": [
        "#functions to do the following: max, min, average, standard deviation, and geometric average\n",
        "\n",
        "import numpy as np\n",
        "import math as m\n",
        "\n",
        "def theMax(numbers):\n",
        "  num = numbers[0]\n",
        "  for i in numbers:\n",
        "    if i > num:\n",
        "      num = i\n",
        "  return num\n",
        "\n",
        "\n",
        "def theMin(numbers):\n",
        "  num = numbers[0]\n",
        "  for i in numbers:\n",
        "    if i < num:\n",
        "      num = i\n",
        "  return num\n",
        "\n",
        "def eX(vals, weights,power):\n",
        "  middle_step = (vals**power)*weights\n",
        "  total = 0\n",
        "  for i in middle_step:\n",
        "    total += i\n",
        "  return total\n",
        "\n",
        "def stdev(vals,weights):\n",
        "  ex_1 = eX(vals,weights,1)\n",
        "  ex_2 = eX(vals,weights,2)\n",
        "  return np.sqrt(ex_2-ex_1**2)\n",
        "\n",
        "def geometeric_avg(numbers):\n",
        "  mult = 1\n",
        "  for i in numbers:\n",
        "    mult *= i \n",
        "  return m.pow(mult,1/len(numbers))\n",
        "\n",
        "weights = np.array([.1,.1,.1,.1,.1,.1,.1,.1,.1,.1])\n",
        "vals = np.array([1,2,3,6,9,3,5,11,10,2])\n",
        "print(\"the average is: \",eX(vals=vals, weights=weights, power=1))\n",
        "print(\"the standard deviation is: \", stdev(vals,weights))\n",
        "print(\"the geometeric average is: \", geometeric_avg(vals))"
      ],
      "execution_count": null,
      "outputs": []
    },
    {
      "cell_type": "markdown",
      "metadata": {
        "id": "d8XZVAPsHSrZ"
      },
      "source": [
        "Create a function that asks the user which shape they would like to analyze. It should then call other functions based on this and return the area of the shape.  The triangle function should take in the base and height, the circle function should take in the radius, and the square function should take in the side length\n"
      ]
    },
    {
      "cell_type": "code",
      "metadata": {
        "id": "yGpWBSyhHNy3"
      },
      "source": [
        "def shape_choice():\n",
        "  data = int(input(\"which shape would you like to find the arean of? Triange 1, Square 2, Circle 3\"))\n",
        "  if data is 1:\n",
        "    base = float(input(\"what is the base?\"))\n",
        "    height = float(input(\"what is the height\"))\n",
        "    triange(base,height)\n",
        "  elif data is 2:\n",
        "    side = float(input(\"what is the side?\"))\n",
        "    square(side)\n",
        "  elif data is 3:\n",
        "    radius = float(input(\"what is the radius\"))\n",
        "    circle(radius)\n",
        "\n",
        "def triangle(base,height):\n",
        "  print(\"The area of the triangle is: \", base*height)\n",
        "\n",
        "def square(side):\n",
        "  print(\"The area of the square is: \", side*side)\n",
        "\n",
        "def circle(radius):\n",
        "  print(\"the area of a circle is: \", 3.14*radius**2)\n",
        "\n",
        "shape_choice()"
      ],
      "execution_count": null,
      "outputs": []
    },
    {
      "cell_type": "markdown",
      "metadata": {
        "id": "1yIc_G4wHXpO"
      },
      "source": [
        "Create a function that takes in a list and returns the list doubled. It should ask the user for option one or two. If the user chooses option one it should return the list doubled such as [1 2 3] becoming [1 2 3 1 2 3], if the user chooses option two then is should return the list such as [1 2 3] becoming [2 4 6]."
      ]
    },
    {
      "cell_type": "code",
      "metadata": {
        "colab": {
          "base_uri": "https://localhost:8080/"
        },
        "id": "EYAXvv_pHN9t",
        "outputId": "a9df5398-58e9-4e0b-9446-8f2be370b1e2"
      },
      "source": [
        "def approach(numbers):\n",
        "  choice = int(input(\"would you like toi see the list 2 time type 1 or would you like to see the numbers double type 2\"))\n",
        "  if choice is 1:\n",
        "    numbers = numbers*2\n",
        "  elif choice is 2:\n",
        "    numbers = np.array(numbers)\n",
        "    numbers = numbers *2\n",
        "  return numbers\n",
        "\n",
        "vals = [1,2,3,4,5,6]\n",
        "print(approach(vals))"
      ],
      "execution_count": 16,
      "outputs": [
        {
          "output_type": "stream",
          "name": "stdout",
          "text": [
            "would you like toi see the list 2 time type 1 or would you like to see the numbers double type 22\n",
            "[ 2  4  6  8 10 12]\n"
          ]
        }
      ]
    },
    {
      "cell_type": "markdown",
      "metadata": {
        "id": "_vD2wl5NHZw4"
      },
      "source": [
        "Create a function that takes in two lists and concatenates the numbers in those lists. For instance, if we have [1 2 3] and [7 8 9], we should return [17 28 39]."
      ]
    },
    {
      "cell_type": "code",
      "metadata": {
        "id": "Yph7Ar5AHOAl"
      },
      "source": [
        "def concat_lists(list_1, list_2):\n",
        "  concated = []\n",
        "  for (i,j) in zip(list_1, list_2):\n",
        "    concated.append(int(str(i) + str(j)))\n",
        "    return concated\n",
        "\n",
        "list_1 = [1,2,3]\n",
        "list_2 = [2,4,6]\n",
        "print(concat_lists(list_1,list_2))"
      ],
      "execution_count": null,
      "outputs": []
    },
    {
      "cell_type": "markdown",
      "metadata": {
        "id": "VFuUzdVkHdPB"
      },
      "source": [
        "Create a function that returns a list of primes up until the number passed in. So if 100 is passed in, it should return all the primes up until 100."
      ]
    },
    {
      "cell_type": "code",
      "metadata": {
        "colab": {
          "base_uri": "https://localhost:8080/"
        },
        "id": "fai--28rHOEF",
        "outputId": "437125eb-5c39-43d7-bf90-02a78cd3f324"
      },
      "source": [
        "def isprime(num):\n",
        "  for i in range(2,num):\n",
        "    if (num % i == 0):\n",
        "      return False\n",
        "  return True\n",
        "\n",
        "def listprimes(x,y):\n",
        "  for i in range(x, y+1):\n",
        "    if (isprime(i)):\n",
        "      print(i, end = \" | \")\n",
        "\n",
        "listprimes(2,100)"
      ],
      "execution_count": 45,
      "outputs": [
        {
          "output_type": "stream",
          "name": "stdout",
          "text": [
            "2 | 3 | 5 | 7 | 11 | 13 | 17 | 19 | 23 | 29 | 31 | 37 | 41 | 43 | 47 | 53 | 59 | 61 | 67 | 71 | 73 | 79 | 83 | 89 | 97 | "
          ]
        }
      ]
    },
    {
      "cell_type": "markdown",
      "metadata": {
        "id": "1_Pbd3DBHf1s"
      },
      "source": [
        "Write a function calculation() such that it can accept two variables and calculate the multiplication and divison of it. And also it must return both results in a single return call"
      ]
    },
    {
      "cell_type": "code",
      "metadata": {
        "colab": {
          "base_uri": "https://localhost:8080/"
        },
        "id": "BZK5xG0uHOG0",
        "outputId": "6d53b581-e61b-4d12-ae43-797fec551eec"
      },
      "source": [
        "def calculation(a,b):\n",
        "  return a-b, a+b\n",
        "\n",
        "plus, minus = calculation(5,7)\n",
        "print(plus, \" \", minus)"
      ],
      "execution_count": 23,
      "outputs": [
        {
          "output_type": "stream",
          "name": "stdout",
          "text": [
            "-2   12\n"
          ]
        }
      ]
    },
    {
      "cell_type": "markdown",
      "metadata": {
        "id": "WHP3IeryHieu"
      },
      "source": [
        "If we list all the natural numbers below 10 that are multiples of 3 or 5, we get 3, 5, 6 and 9. The sum of these multiples is 23.Find the sum of all the multiples of 3 or 5 below 1000."
      ]
    },
    {
      "cell_type": "code",
      "metadata": {
        "colab": {
          "base_uri": "https://localhost:8080/"
        },
        "id": "Vf1NbiObHOJz",
        "outputId": "c45975c0-d50c-4f4c-cb86-745d5c165737"
      },
      "source": [
        "def oddFib(k):\n",
        " first = 1\n",
        " second = 1\n",
        " total = first + second\n",
        " for i in range(k):\n",
        "  third = first + second \n",
        "  if (third % 2 == 1):\n",
        "    total += third\n",
        "  first = second\n",
        "  second = third\n",
        " return total\n",
        "\n",
        "print(oddFib(13))"
      ],
      "execution_count": 37,
      "outputs": [
        {
          "output_type": "stream",
          "name": "stdout",
          "text": [
            "798\n"
          ]
        }
      ]
    },
    {
      "cell_type": "markdown",
      "metadata": {
        "id": "awWF5ifDHn-1"
      },
      "source": [
        "Find the sum of the even valued Fibonacci numbers below 500."
      ]
    },
    {
      "cell_type": "code",
      "metadata": {
        "colab": {
          "base_uri": "https://localhost:8080/"
        },
        "id": "U0OSO32XHOS7",
        "outputId": "6afa60f0-0a15-4943-dec7-893b64e61cb8"
      },
      "source": [
        "def oddFib(k):\n",
        " first = 1\n",
        " second = 1\n",
        " total = first + second\n",
        " for i in range(k):\n",
        "  third = first + second \n",
        "  if (third % 2 == 0):\n",
        "    total += third\n",
        "  first = second\n",
        "  second = third\n",
        " return total\n",
        "\n",
        "print(oddFib(12))"
      ],
      "execution_count": 44,
      "outputs": [
        {
          "output_type": "stream",
          "name": "stdout",
          "text": [
            "190\n"
          ]
        }
      ]
    }
  ]
}