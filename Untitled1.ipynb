{
  "nbformat": 4,
  "nbformat_minor": 0,
  "metadata": {
    "colab": {
      "name": "Untitled1.ipynb",
      "provenance": [],
      "collapsed_sections": []
    },
    "kernelspec": {
      "name": "python3",
      "display_name": "Python 3"
    },
    "language_info": {
      "name": "python"
    }
  },
  "cells": [
    {
      "cell_type": "code",
      "metadata": {
        "colab": {
          "base_uri": "https://localhost:8080/",
          "height": 205
        },
        "id": "b7_j3EifWyzx",
        "outputId": "ab4a2260-febe-47a5-c11a-3afa1161d354"
      },
      "source": [
        "#https://raw.githubusercontent.com/plotly/datasets/master/election.csv\n",
        "\n",
        "import pandas as pd\n",
        "import numpy as np\n",
        "import matplotlib.pyplot as plt\n",
        "import missingno as msno\n",
        "import seaborn as sns\n",
        "\n",
        "\n",
        "df = pd.read_csv(\"https://raw.githubusercontent.com/plotly/datasets/master/election.csv\")\n",
        "df.head()\n"
      ],
      "execution_count": 49,
      "outputs": [
        {
          "output_type": "execute_result",
          "data": {
            "text/html": [
              "<div>\n",
              "<style scoped>\n",
              "    .dataframe tbody tr th:only-of-type {\n",
              "        vertical-align: middle;\n",
              "    }\n",
              "\n",
              "    .dataframe tbody tr th {\n",
              "        vertical-align: top;\n",
              "    }\n",
              "\n",
              "    .dataframe thead th {\n",
              "        text-align: right;\n",
              "    }\n",
              "</style>\n",
              "<table border=\"1\" class=\"dataframe\">\n",
              "  <thead>\n",
              "    <tr style=\"text-align: right;\">\n",
              "      <th></th>\n",
              "      <th>district</th>\n",
              "      <th>Coderre</th>\n",
              "      <th>Bergeron</th>\n",
              "      <th>Joly</th>\n",
              "      <th>total</th>\n",
              "      <th>winner</th>\n",
              "      <th>result</th>\n",
              "      <th>district_id</th>\n",
              "    </tr>\n",
              "  </thead>\n",
              "  <tbody>\n",
              "    <tr>\n",
              "      <th>0</th>\n",
              "      <td>101-Bois-de-Liesse</td>\n",
              "      <td>2481</td>\n",
              "      <td>1829</td>\n",
              "      <td>3024</td>\n",
              "      <td>7334</td>\n",
              "      <td>Joly</td>\n",
              "      <td>plurality</td>\n",
              "      <td>101</td>\n",
              "    </tr>\n",
              "    <tr>\n",
              "      <th>1</th>\n",
              "      <td>102-Cap-Saint-Jacques</td>\n",
              "      <td>2525</td>\n",
              "      <td>1163</td>\n",
              "      <td>2675</td>\n",
              "      <td>6363</td>\n",
              "      <td>Joly</td>\n",
              "      <td>plurality</td>\n",
              "      <td>102</td>\n",
              "    </tr>\n",
              "    <tr>\n",
              "      <th>2</th>\n",
              "      <td>11-Sault-au-Récollet</td>\n",
              "      <td>3348</td>\n",
              "      <td>2770</td>\n",
              "      <td>2532</td>\n",
              "      <td>8650</td>\n",
              "      <td>Coderre</td>\n",
              "      <td>plurality</td>\n",
              "      <td>11</td>\n",
              "    </tr>\n",
              "    <tr>\n",
              "      <th>3</th>\n",
              "      <td>111-Mile-End</td>\n",
              "      <td>1734</td>\n",
              "      <td>4782</td>\n",
              "      <td>2514</td>\n",
              "      <td>9030</td>\n",
              "      <td>Bergeron</td>\n",
              "      <td>majority</td>\n",
              "      <td>111</td>\n",
              "    </tr>\n",
              "    <tr>\n",
              "      <th>4</th>\n",
              "      <td>112-DeLorimier</td>\n",
              "      <td>1770</td>\n",
              "      <td>5933</td>\n",
              "      <td>3044</td>\n",
              "      <td>10747</td>\n",
              "      <td>Bergeron</td>\n",
              "      <td>majority</td>\n",
              "      <td>112</td>\n",
              "    </tr>\n",
              "  </tbody>\n",
              "</table>\n",
              "</div>"
            ],
            "text/plain": [
              "                district  Coderre  Bergeron  ...    winner     result district_id\n",
              "0     101-Bois-de-Liesse     2481      1829  ...      Joly  plurality         101\n",
              "1  102-Cap-Saint-Jacques     2525      1163  ...      Joly  plurality         102\n",
              "2   11-Sault-au-Récollet     3348      2770  ...   Coderre  plurality          11\n",
              "3           111-Mile-End     1734      4782  ...  Bergeron   majority         111\n",
              "4         112-DeLorimier     1770      5933  ...  Bergeron   majority         112\n",
              "\n",
              "[5 rows x 8 columns]"
            ]
          },
          "metadata": {},
          "execution_count": 49
        }
      ]
    },
    {
      "cell_type": "code",
      "metadata": {
        "colab": {
          "base_uri": "https://localhost:8080/"
        },
        "id": "gu5bwgGWaYQL",
        "outputId": "df115f53-a974-4598-f2e5-decc83435c9c"
      },
      "source": [
        "#check for null\n",
        "df.isnull().sum()\n"
      ],
      "execution_count": 50,
      "outputs": [
        {
          "output_type": "execute_result",
          "data": {
            "text/plain": [
              "district       0\n",
              "Coderre        0\n",
              "Bergeron       0\n",
              "Joly           0\n",
              "total          0\n",
              "winner         0\n",
              "result         0\n",
              "district_id    0\n",
              "dtype: int64"
            ]
          },
          "metadata": {},
          "execution_count": 50
        }
      ]
    },
    {
      "cell_type": "code",
      "metadata": {
        "colab": {
          "base_uri": "https://localhost:8080/"
        },
        "id": "YXGUk_VXasb6",
        "outputId": "c9018e45-1f17-45b6-adf9-54a61eddb4f6"
      },
      "source": [
        "#List number unique values\n",
        "\n",
        "df.nunique()"
      ],
      "execution_count": 51,
      "outputs": [
        {
          "output_type": "execute_result",
          "data": {
            "text/plain": [
              "district       58\n",
              "Coderre        58\n",
              "Bergeron       58\n",
              "Joly           56\n",
              "total          58\n",
              "winner          3\n",
              "result          2\n",
              "district_id    58\n",
              "dtype: int64"
            ]
          },
          "metadata": {},
          "execution_count": 51
        }
      ]
    },
    {
      "cell_type": "code",
      "metadata": {
        "colab": {
          "base_uri": "https://localhost:8080/",
          "height": 299
        },
        "id": "Zty-K7CQa33M",
        "outputId": "c4de4507-7e4c-4d4d-b057-8294559d4649"
      },
      "source": [
        "#describe the data\n",
        "df.describe()"
      ],
      "execution_count": 52,
      "outputs": [
        {
          "output_type": "execute_result",
          "data": {
            "text/html": [
              "<div>\n",
              "<style scoped>\n",
              "    .dataframe tbody tr th:only-of-type {\n",
              "        vertical-align: middle;\n",
              "    }\n",
              "\n",
              "    .dataframe tbody tr th {\n",
              "        vertical-align: top;\n",
              "    }\n",
              "\n",
              "    .dataframe thead th {\n",
              "        text-align: right;\n",
              "    }\n",
              "</style>\n",
              "<table border=\"1\" class=\"dataframe\">\n",
              "  <thead>\n",
              "    <tr style=\"text-align: right;\">\n",
              "      <th></th>\n",
              "      <th>Coderre</th>\n",
              "      <th>Bergeron</th>\n",
              "      <th>Joly</th>\n",
              "      <th>total</th>\n",
              "      <th>district_id</th>\n",
              "    </tr>\n",
              "  </thead>\n",
              "  <tbody>\n",
              "    <tr>\n",
              "      <th>count</th>\n",
              "      <td>58.000000</td>\n",
              "      <td>58.000000</td>\n",
              "      <td>58.000000</td>\n",
              "      <td>58.000000</td>\n",
              "      <td>58.000000</td>\n",
              "    </tr>\n",
              "    <tr>\n",
              "      <th>mean</th>\n",
              "      <td>2577.017241</td>\n",
              "      <td>2045.465517</td>\n",
              "      <td>2121.758621</td>\n",
              "      <td>6744.241379</td>\n",
              "      <td>96.310345</td>\n",
              "    </tr>\n",
              "    <tr>\n",
              "      <th>std</th>\n",
              "      <td>1502.950893</td>\n",
              "      <td>1543.416729</td>\n",
              "      <td>949.760954</td>\n",
              "      <td>2920.087672</td>\n",
              "      <td>56.504993</td>\n",
              "    </tr>\n",
              "    <tr>\n",
              "      <th>min</th>\n",
              "      <td>332.000000</td>\n",
              "      <td>131.000000</td>\n",
              "      <td>326.000000</td>\n",
              "      <td>789.000000</td>\n",
              "      <td>11.000000</td>\n",
              "    </tr>\n",
              "    <tr>\n",
              "      <th>25%</th>\n",
              "      <td>1546.500000</td>\n",
              "      <td>858.750000</td>\n",
              "      <td>1271.000000</td>\n",
              "      <td>4494.250000</td>\n",
              "      <td>45.000000</td>\n",
              "    </tr>\n",
              "    <tr>\n",
              "      <th>50%</th>\n",
              "      <td>2426.000000</td>\n",
              "      <td>1598.000000</td>\n",
              "      <td>2299.000000</td>\n",
              "      <td>7476.500000</td>\n",
              "      <td>92.500000</td>\n",
              "    </tr>\n",
              "    <tr>\n",
              "      <th>75%</th>\n",
              "      <td>3529.250000</td>\n",
              "      <td>2662.750000</td>\n",
              "      <td>2842.250000</td>\n",
              "      <td>9129.000000</td>\n",
              "      <td>139.250000</td>\n",
              "    </tr>\n",
              "    <tr>\n",
              "      <th>max</th>\n",
              "      <td>6591.000000</td>\n",
              "      <td>6408.000000</td>\n",
              "      <td>3959.000000</td>\n",
              "      <td>11050.000000</td>\n",
              "      <td>194.000000</td>\n",
              "    </tr>\n",
              "  </tbody>\n",
              "</table>\n",
              "</div>"
            ],
            "text/plain": [
              "           Coderre     Bergeron         Joly         total  district_id\n",
              "count    58.000000    58.000000    58.000000     58.000000    58.000000\n",
              "mean   2577.017241  2045.465517  2121.758621   6744.241379    96.310345\n",
              "std    1502.950893  1543.416729   949.760954   2920.087672    56.504993\n",
              "min     332.000000   131.000000   326.000000    789.000000    11.000000\n",
              "25%    1546.500000   858.750000  1271.000000   4494.250000    45.000000\n",
              "50%    2426.000000  1598.000000  2299.000000   7476.500000    92.500000\n",
              "75%    3529.250000  2662.750000  2842.250000   9129.000000   139.250000\n",
              "max    6591.000000  6408.000000  3959.000000  11050.000000   194.000000"
            ]
          },
          "metadata": {},
          "execution_count": 52
        }
      ]
    },
    {
      "cell_type": "code",
      "metadata": {
        "colab": {
          "base_uri": "https://localhost:8080/",
          "height": 315
        },
        "id": "y-D2HIbZbvpH",
        "outputId": "ca08756d-ae8d-468c-a714-63775d0c85f2"
      },
      "source": [
        "#we now check the scale\n",
        "sns.catplot(data=df , kind='box' , height=4, aspect=2)"
      ],
      "execution_count": 53,
      "outputs": [
        {
          "output_type": "execute_result",
          "data": {
            "text/plain": [
              "<seaborn.axisgrid.FacetGrid at 0x7f030730c350>"
            ]
          },
          "metadata": {},
          "execution_count": 53
        },
        {
          "output_type": "display_data",
          "data": {
            "image/png": "[encoded data removed]",
            "text/plain": [
              "<Figure size 576x288 with 1 Axes>"
            ]
          },
          "metadata": {
            "needs_background": "light"
          }
        }
      ]
    },
    {
      "cell_type": "code",
      "metadata": {
        "colab": {
          "base_uri": "https://localhost:8080/",
          "height": 243
        },
        "id": "TgwGnZxBdGxk",
        "outputId": "f6f81162-f7ff-4f1c-d9ee-9318c2f14847"
      },
      "source": [
        "sns.catplot(x='winner', data=df , kind='count', height = 3, aspect=2 )\n"
      ],
      "execution_count": 55,
      "outputs": [
        {
          "output_type": "execute_result",
          "data": {
            "text/plain": [
              "<seaborn.axisgrid.FacetGrid at 0x7f03071451d0>"
            ]
          },
          "metadata": {},
          "execution_count": 55
        },
        {
          "output_type": "display_data",
          "data": {
            "image/png": "[encoded data removed]",
            "text/plain": [
              "<Figure size 432x216 with 1 Axes>"
            ]
          },
          "metadata": {
            "needs_background": "light"
          }
        }
      ]
    },
    {
      "cell_type": "code",
      "metadata": {
        "colab": {
          "base_uri": "https://localhost:8080/",
          "height": 735
        },
        "id": "qcKa71SafM78",
        "outputId": "0c9617a3-7220-46d5-ed9a-299bad9feb1f"
      },
      "source": [
        "#histograms\n",
        "df.hist(figsize=(15,10), bins=20, xlabelsize=10, ylabelsize=10)"
      ],
      "execution_count": 56,
      "outputs": [
        {
          "output_type": "execute_result",
          "data": {
            "text/plain": [
              "array([[<matplotlib.axes._subplots.AxesSubplot object at 0x7f030704f8d0>,\n",
              "        <matplotlib.axes._subplots.AxesSubplot object at 0x7f0306fefb90>],\n",
              "       [<matplotlib.axes._subplots.AxesSubplot object at 0x7f0306fb2250>,\n",
              "        <matplotlib.axes._subplots.AxesSubplot object at 0x7f0306fe78d0>],\n",
              "       [<matplotlib.axes._subplots.AxesSubplot object at 0x7f0306f9ef50>,\n",
              "        <matplotlib.axes._subplots.AxesSubplot object at 0x7f0306f60610>]],\n",
              "      dtype=object)"
            ]
          },
          "metadata": {},
          "execution_count": 56
        },
        {
          "output_type": "display_data",
          "data": {
            "image/png": "[encoded data removed]",
            "text/plain": [
              "<Figure size 1080x720 with 6 Axes>"
            ]
          },
          "metadata": {
            "needs_background": "light"
          }
        }
      ]
    },
    {
      "cell_type": "code",
      "metadata": {
        "id": "Fs7BO0j-gW1S"
      },
      "source": [
        ""
      ],
      "execution_count": null,
      "outputs": []
    }
  ]
}