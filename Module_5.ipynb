{
  "nbformat": 4,
  "nbformat_minor": 0,
  "metadata": {
    "colab": {
      "name": "Module 5.ipynb",
      "provenance": [],
      "collapsed_sections": []
    },
    "kernelspec": {
      "name": "python3",
      "display_name": "Python 3"
    },
    "language_info": {
      "name": "python"
    }
  },
  "cells": [
    {
      "cell_type": "code",
      "metadata": {
        "id": "GZuFWlajiJdQ"
      },
      "source": [
        "age = input(\"please give me a number for your age\\t\")\n",
        "\n",
        "while not(age.isdigit()):\n",
        "  age = input(\"please give me a number for your age\\t\")\n",
        "\n",
        "print(\"thnak you \")\n",
        "\n",
        "name = input(\"Please Give me your name\\t\")\n",
        "while not(name.isalpha()):\n",
        "  name = input(\"Please give me your name\\t\")\n",
        "print(name)\n",
        "\n",
        "age = int(age)\n",
        "\n",
        "counter = 0\n",
        "accepted = True\n",
        "while (age < 0 or age > 100):\n",
        "  counter = counter + 1\n",
        "  if (counter > 3):\n",
        "    accepted = False\n",
        "    break\n",
        "  age = int(input(\"please give me a number for your age\\t\"))\n",
        "\n",
        "if accepted:\n",
        "  print(\"acceptable: \", name , \" \", age)\n",
        "else:\n",
        "  print(\"unacceptable\")"
      ],
      "execution_count": null,
      "outputs": []
    },
    {
      "cell_type": "code",
      "metadata": {
        "id": "V8jzBmn-fcZQ"
      },
      "source": [
        "x = 3\n",
        "while x <= 1000:\n",
        "  print(x, end=\" | \")\n",
        "  x = x + 10"
      ],
      "execution_count": null,
      "outputs": []
    },
    {
      "cell_type": "code",
      "metadata": {
        "id": "V5_zJSNpb-lU"
      },
      "source": [
        "x = 100\n",
        "\n",
        "while x > 0:\n",
        "    print(x)\n",
        "    x -= 2"
      ],
      "execution_count": null,
      "outputs": []
    },
    {
      "cell_type": "code",
      "metadata": {
        "id": "toBylDpYWO04"
      },
      "source": [
        "x = 101\n",
        "while x <= 1000:\n",
        "  print(x, end=\" | \")\n",
        "  x = x + 2"
      ],
      "execution_count": null,
      "outputs": []
    },
    {
      "cell_type": "code",
      "metadata": {
        "id": "iw24nzJmeTw4"
      },
      "source": [
        "num = -1\n",
        "\n",
        "while (num < 0 or num > 100):\n",
        "  num = int(input(\"please give me a number between 1 and 100\\t\"))\n",
        "\n",
        "  print(\"thank you for giving me\", num)\n"
      ],
      "execution_count": null,
      "outputs": []
    },
    {
      "cell_type": "code",
      "metadata": {
        "id": "2FmvrzVefcfY"
      },
      "source": [
        "secret_number = 69\n",
        "guess = -1\n",
        "while secret_number != guess:\n",
        "    guess = int(input(\"please disclose the Secret number\\t\"))\n",
        "  \n",
        "print(\"Thank you!\")"
      ],
      "execution_count": null,
      "outputs": []
    }
  ]
}