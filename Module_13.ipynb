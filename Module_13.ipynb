{
  "nbformat": 4,
  "nbformat_minor": 0,
  "metadata": {
    "colab": {
      "name": " Module 13",
      "provenance": []
    },
    "kernelspec": {
      "name": "python3",
      "display_name": "Python 3"
    },
    "language_info": {
      "name": "python"
    }
  },
  "cells": [
    {
      "cell_type": "code",
      "metadata": {
        "id": "bOdrF7IJ7V1O"
      },
      "source": [
        "# Accuracy is when it takes into account elements more than the diagnosis and procedure codes.\n",
        "# Precision is a measure of the detail in which the quantity is expressed\n",
        "# Recall is intuitively the ability of the classifier to find all the positive samples\n",
        "# If you were up late writing a lot of code you would rather have Accuracy over the others due to it looking over all the elements and it identifing the problem when the other don't do\n",
        "# a confusion matrix a tabular summary of the number of correct and incorrect predictions made by a classifier\n",
        "#accuracy\n",
        "1 – (Number of misclassified samples / Total number of samples)\n",
        "#precision\n",
        "ratio tp / (tp + fp)\n",
        "#recall\n",
        "ratio tp / (tp + fn)\n",
        "#F1\n",
        "F1 = 2 * (precision * recall) / (precision + recall)\n",
        "# example of a type 1 and type 2 error(Example of type 1 is false positive of when you scan your computer and it tells you a noremal file is a virus and type 2 is when a virus file is identified as a noremal file)\n",
        "# we use train.test,split() function from Python when analyzing data is used to measure the performance of the machine learning algorithm when they are used to predict the new data which is not used to train the model\n",
        "# the point of splitting data is used for classification or regression problems and can be used for any supervised learning algorithm\n",
        "# The bias vs. variance tradeoff is Trade-off is tension between the error introduced by the bias and the variance"
      ],
      "execution_count": null,
      "outputs": []
    }
  ]
}