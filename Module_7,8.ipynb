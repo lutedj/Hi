{
  "nbformat": 4,
  "nbformat_minor": 0,
  "metadata": {
    "colab": {
      "name": "Module 7,8",
      "provenance": [],
      "collapsed_sections": []
    },
    "kernelspec": {
      "name": "python3",
      "display_name": "Python 3"
    },
    "language_info": {
      "name": "python"
    }
  },
  "cells": [
    {
      "cell_type": "code",
      "metadata": {
        "id": "LI2rES4uz_DN"
      },
      "source": [
        "#takes in two numbers and returns the average of those numbers\n",
        "def func1(x,y):\n",
        "  return (x+y)/2\n",
        "\n",
        "num1 = int(input(\"give me a number\"))\n",
        "num2 = int(input(\"give me a number\"))\n",
        "\n",
        "avg = func1(num1,num2)\n",
        "print(avg)"
      ],
      "execution_count": null,
      "outputs": []
    },
    {
      "cell_type": "code",
      "metadata": {
        "id": "hNw2nb7xK2vb",
        "colab": {
          "base_uri": "https://localhost:8080/"
        },
        "outputId": "670d7481-cdf8-406d-d4be-a31e7780235a"
      },
      "source": [
        "#takes in two numbers and returns the sum from number1 to number2\n",
        "\n",
        "def func1(x,y):\n",
        "  return (x+y)\n",
        "\n",
        "num1 = int(input(\"give me a number \"))\n",
        "num2 = int(input(\"give me a number \"))\n",
        "\n",
        "avg = func1(num1,num2)\n",
        "print(avg)"
      ],
      "execution_count": 1,
      "outputs": [
        {
          "output_type": "stream",
          "name": "stdout",
          "text": [
            "give me a number9\n",
            "give me a number5\n",
            "14\n"
          ]
        }
      ]
    },
    {
      "cell_type": "code",
      "metadata": {
        "id": "6jRYAgs4QJQu",
        "colab": {
          "base_uri": "https://localhost:8080/"
        },
        "outputId": "955efb25-2bcd-41ed-fb9e-e0aa82007686"
      },
      "source": [
        "#takes in a item_cost, the percentage_off, and the tax\n",
        "\n",
        "item = int(input(\"How Much does your Item Cost $\"))\n",
        "discount = .3\n",
        "tax = .08\n",
        "\n",
        "total_amount = item*(1-discount)*(1-tax)\n",
        "\n",
        "print(\"The total amount of your item is is $\", total_amount)\n"
      ],
      "execution_count": 13,
      "outputs": [
        {
          "output_type": "stream",
          "name": "stdout",
          "text": [
            "How Much does your Item Cost $745\n",
            "The total amount of your item is is $ 479.78000000000003\n"
          ]
        }
      ]
    },
    {
      "cell_type": "code",
      "metadata": {
        "id": "dwkLVM5205j3"
      },
      "source": [
        "#prime number generator\n",
        "def isprime(num):\n",
        "  for i in range(2,num):\n",
        "    if (num % i == 0):\n",
        "      return False\n",
        "  return True\n",
        "\n",
        "def listprimes(x,y):\n",
        "  for i in range(x, y+1):\n",
        "    if (isprime(i)):\n",
        "      print(i, end = \" | \")\n",
        "\n",
        "listprimes(2,1000)\n"
      ],
      "execution_count": null,
      "outputs": []
    },
    {
      "cell_type": "code",
      "metadata": {
        "id": "6Atl50_c3IDO"
      },
      "source": [
        "#test to see if numbers are coprime \n",
        "def coprime_test(num1, num2):\n",
        "  for i in range(2,num2+1):\n",
        "    if(num1 % i == 0 and num2 % i == 0):\n",
        "      return False \n",
        "  return True\n",
        "\n",
        "def list_coprimes(x):\n",
        "  print(1)\n",
        "  for i in range(2,x):\n",
        "    if(coprime_test(x,i)):\n",
        "      print(i)\n",
        "\n",
        "list_coprimes(26)\n"
      ],
      "execution_count": null,
      "outputs": []
    },
    {
      "cell_type": "code",
      "metadata": {
        "id": "UoXNQcDNScyo"
      },
      "source": [
        "#takes in a number and return how many numbers below it are coprime\n",
        "\n",
        "?\n"
      ],
      "execution_count": null,
      "outputs": []
    },
    {
      "cell_type": "code",
      "metadata": {
        "id": "EGcvy9tj6lJ9"
      },
      "source": [
        "#test to see if its a twin primes\n",
        "def isTwinPrime(x):\n",
        "  if (isprime(x) and isprime(x+2)):\n",
        "    return True \n",
        "  return False\n",
        "\n",
        "def listTwinprimes(x,y):\n",
        "  for i in range(x,y+1):\n",
        "    if (isTwinPrime(i)):\n",
        "      print(i, \" \", i+2)\n",
        "      i += 2\n",
        "listTwinprimes(2,100)"
      ],
      "execution_count": null,
      "outputs": []
    },
    {
      "cell_type": "code",
      "metadata": {
        "id": "si_Dr4jK8aV9",
        "colab": {
          "base_uri": "https://localhost:8080/"
        },
        "outputId": "a419277d-83aa-4ec5-b9b7-5cedcc178d76"
      },
      "source": [
        "#Rock,Paper,Scissors Game\n",
        "import random as r\n",
        "\n",
        "def rps():\n",
        "  rock_count = 0\n",
        "  paper_count = 0\n",
        "  scissor_count = 0\n",
        "\n",
        "  for i in range(10000):\n",
        "    num1 = r.randint(1,3)\n",
        "    num2 = r.randint(1,3)\n",
        "\n",
        "    if (num1 == num2):\n",
        "      continue\n",
        "    elif (num1 == 1 and num2 == 2):\n",
        "     paper_count += 1\n",
        "    elif (num1 == 1 and num2 == 3):\n",
        "      rock_count += 1\n",
        "    elif (num1 == 2 and num2 == 3):\n",
        "      scissor_count += 1\n",
        "\n",
        "  print(\"rock \", rock_count/10000)\n",
        "  print(\"scissor \", scissor_count/10000)\n",
        "  print(\"paper \", paper_count/10000)\n",
        "\n",
        "rps()"
      ],
      "execution_count": 21,
      "outputs": [
        {
          "output_type": "stream",
          "name": "stdout",
          "text": [
            "rock  0.1086\n",
            "scissor  0.1087\n",
            "paper  0.109\n"
          ]
        }
      ]
    },
    {
      "cell_type": "code",
      "metadata": {
        "id": "IKTWWdHaTIsp",
        "colab": {
          "base_uri": "https://localhost:8080/"
        },
        "outputId": "e1590993-181f-4c7d-e145-c9e7582fe0e5"
      },
      "source": [
        "#a function that tests the probabilities of the Monty Hall problem\n",
        "\n",
        "import random as r\n",
        "\n",
        "def door():\n",
        "  door1 = 0\n",
        "  door2 = 0\n",
        "  door3 = 0\n",
        "\n",
        "  for i in range(10000):\n",
        "    num1 = r.randint(1,3)\n",
        "    num2 = r.randint(1,3)\n",
        "\n",
        "    if (num1 == num2):\n",
        "      continue\n",
        "    elif (num1 == 1 and num2 == 2):\n",
        "      door2 += 1\n",
        "    elif (num1 == 1 and num2 == 3):\n",
        "      door1 += 1\n",
        "    elif (num1 == 2 and num2 == 3):\n",
        "      door3 += 1\n",
        "  \n",
        "  print(\"Door 1\", door1/10000)\n",
        "  print(\"Door 3\", door3/10000)\n",
        "  print(\"Door 2\", door2/10000)\n",
        "\n",
        "door()\n"
      ],
      "execution_count": 22,
      "outputs": [
        {
          "output_type": "stream",
          "name": "stdout",
          "text": [
            "Door 1 0.1112\n",
            "Door 3 0.113\n",
            "Door 2 0.1086\n"
          ]
        }
      ]
    }
  ]
}