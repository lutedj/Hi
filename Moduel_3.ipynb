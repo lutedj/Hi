{
  "nbformat": 4,
  "nbformat_minor": 0,
  "metadata": {
    "colab": {
      "name": "Moduel 3",
      "provenance": [],
      "collapsed_sections": []
    },
    "kernelspec": {
      "name": "python3",
      "display_name": "Python 3"
    },
    "language_info": {
      "name": "python"
    }
  },
  "cells": [
    {
      "cell_type": "markdown",
      "metadata": {
        "id": "7GRUhUqArZbb"
      },
      "source": [
        "# **Investment Strategy**\n",
        "\n",
        "This worksheet will assist in finacial decisions.\n",
        "\n",
        "\n",
        "\n",
        "* Future Values\n",
        "* Present Values \n",
        "* Interest Rate \n",
        "* principal\n"
      ]
    },
    {
      "cell_type": "code",
      "metadata": {
        "colab": {
          "base_uri": "https://localhost:8080/"
        },
        "id": "KstdAijdrmMT",
        "outputId": "c99b2ea0-5cb1-414d-cd21-1f89598f6c99"
      },
      "source": [
        "# this program shows how to calculate the how much money you will get if you leave it in a bank\n",
        "Interest_rate = .05\n",
        "years = 10\n",
        "principal = 100\n",
        "output = principal*(1+Interest_rate)**years\n",
        "print(f'The Output is {output}')"
      ],
      "execution_count": null,
      "outputs": [
        {
          "output_type": "stream",
          "name": "stdout",
          "text": [
            "The Output is 162.8894626777442\n"
          ]
        }
      ]
    },
    {
      "cell_type": "code",
      "metadata": {
        "colab": {
          "base_uri": "https://localhost:8080/"
        },
        "id": "3xQayCHdtpaz",
        "outputId": "5f170a0c-b4bd-402e-ca98-1f373d0b28d4"
      },
      "source": [
        "# you can manually put in what you want to invest and how much you will get from the investment\n",
        "fz = float(input('Whats your target goal?'))\n",
        "num_years = float(input('How many years will you invest'))\n",
        "interest_rate= float(input('what will the interest rate will be'))\n",
        "\n",
        "present_value = fz/(1+interest_rate)**num_years\n",
        "print(\"the present value is \", present_value)"
      ],
      "execution_count": null,
      "outputs": [
        {
          "output_type": "stream",
          "name": "stdout",
          "text": [
            "Whats your target goal? 10000\n",
            "How many years will you invest5\n",
            "what will the interest rate will be1.09\n",
            "the present value is  250.76595203146374\n"
          ]
        }
      ]
    }
  ]
}